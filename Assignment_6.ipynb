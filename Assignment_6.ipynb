{
  "nbformat": 4,
  "nbformat_minor": 0,
  "metadata": {
    "colab": {
      "provenance": [],
      "authorship_tag": "ABX9TyP1pOZn6xRqJXljMK8FQCiH"
    },
    "kernelspec": {
      "name": "python3",
      "display_name": "Python 3"
    },
    "language_info": {
      "name": "python"
    }
  },
  "cells": [
    {
      "cell_type": "markdown",
      "source": [
        "Q.1. What are keywords in python? Using the keyword library, print all the python keywords.\n",
        "\n",
        "Answer >\n",
        "\n",
        "Keywords are reserved words which are not be used as a variable name, function name, or any other identifier in python programming.\n"
      ],
      "metadata": {
        "id": "cxamCQSQWztX"
      }
    },
    {
      "cell_type": "code",
      "execution_count": null,
      "metadata": {
        "colab": {
          "base_uri": "https://localhost:8080/"
        },
        "id": "VOEhW1vmWtGy",
        "outputId": "65678a7a-f79f-4fc2-afee-bfc79596e7ed"
      },
      "outputs": [
        {
          "output_type": "stream",
          "name": "stdout",
          "text": [
            "['False', 'None', 'True', 'and', 'as', 'assert', 'async', 'await', 'break', 'class', 'continue', 'def', 'del', 'elif', 'else', 'except', 'finally', 'for', 'from', 'global', 'if', 'import', 'in', 'is', 'lambda', 'nonlocal', 'not', 'or', 'pass', 'raise', 'return', 'try', 'while', 'with', 'yield']\n"
          ]
        }
      ],
      "source": [
        "#import keyword module\n",
        "import keyword\n",
        "#printing  keyword list\n",
        "kw=keyword.kwlist\n",
        "print(kw)"
      ]
    },
    {
      "cell_type": "markdown",
      "source": [
        "Q.2. What are the rules to create variables in python?\n",
        "\n",
        "Answer >\n",
        "\n",
        "In python programming we need to used variable while writing code.Following rules need to consider while naming variables:\n",
        "\n",
        ">A variable name must start with a letter or the underscore character\n",
        "\n",
        ">A variable name cannot start with a number\n",
        "\n",
        ">A variable name can only contain alpha-numeric characters and underscores (A-z, 0-9, and _ )\n",
        "\n",
        ">Variable names are case-sensitive (age, Age and AGE are three different variables)\n",
        "\n",
        ">A variable name cannot have any of the Python keywords."
      ],
      "metadata": {
        "id": "fnw_br6IXb2G"
      }
    },
    {
      "cell_type": "markdown",
      "source": [
        "Q.3. What are the standards and conventions followed for the nomenclature of variables in python to improve code readability and maintainability?\n",
        "\n",
        "Answer >\n",
        "\n",
        "While declaring names of variables in certain naming convention we need to keep in mind.\n",
        "\n",
        ">Python is case sensitive language so Variable name like Year ,year are each different variables.\n",
        "\n",
        ">Variables name contain number, _ and A-Z,a-z,0-9 but the first character of a variable name can’t be a digit.\n",
        "\n",
        ">Keep variable name logical to our code"
      ],
      "metadata": {
        "id": "1WxD6-RfXsz0"
      }
    },
    {
      "cell_type": "markdown",
      "source": [
        "Q.4. What will happen if a keyword is used as a variable name?\n",
        "\n",
        "Answer >\n",
        "\n",
        ">Our code will give error like below i give took variable name if and assign value. it will give SyntaxError: invalid syntax"
      ],
      "metadata": {
        "id": "aow9pni5YDtj"
      }
    },
    {
      "cell_type": "code",
      "source": [
        "None = 3 # SyntaxError: cannot assign to None\n",
        "\n",
        "# Because None is reserved Keyword."
      ],
      "metadata": {
        "colab": {
          "base_uri": "https://localhost:8080/",
          "height": 130
        },
        "id": "NsDGbhR_XSRw",
        "outputId": "5d79ae7e-1581-48f7-9a95-012421158ade"
      },
      "execution_count": null,
      "outputs": [
        {
          "output_type": "error",
          "ename": "SyntaxError",
          "evalue": "ignored",
          "traceback": [
            "\u001b[0;36m  File \u001b[0;32m\"<ipython-input-2-f486e4015c9e>\"\u001b[0;36m, line \u001b[0;32m1\u001b[0m\n\u001b[0;31m    None = 3\u001b[0m\n\u001b[0m    ^\u001b[0m\n\u001b[0;31mSyntaxError\u001b[0m\u001b[0;31m:\u001b[0m cannot assign to None\n"
          ]
        }
      ]
    },
    {
      "cell_type": "markdown",
      "source": [
        "Q.5. For what purpose def keyword is used?\n",
        "\n",
        "Answer >\n",
        "\n",
        "> Python def keyword is used to define a function, it is used before a function name which user want to create."
      ],
      "metadata": {
        "id": "9yx-ZqQbYkzR"
      }
    },
    {
      "cell_type": "markdown",
      "source": [
        "Q.6. What is the operation of this special character ‘\\’?\n",
        "\n",
        "Answer >\n",
        "\n",
        "> An escape character is a backslash \\ followed by the character which we want to insert.like \\n will create new line,\\t create tab,'single quote."
      ],
      "metadata": {
        "id": "Lws-cuJqY7QI"
      }
    },
    {
      "cell_type": "markdown",
      "source": [
        "Q.7. Give an example of the following conditions:\n",
        "(i) Homogeneous list\n",
        "(ii) Heterogeneous set\n",
        "(iii) Homogeneous tuple\n",
        "\n",
        "Answer >\n",
        "\n",
        ">(i) Homogeneous list here our homo_list have same type of integer data type in it"
      ],
      "metadata": {
        "id": "WxznK6_nZmqs"
      }
    },
    {
      "cell_type": "code",
      "source": [
        "homo_list=[0,1,2,3,4,5]"
      ],
      "metadata": {
        "id": "YgOYMw5YYUI8"
      },
      "execution_count": null,
      "outputs": []
    },
    {
      "cell_type": "markdown",
      "source": [
        ">(ii) Heterogeneous set here set have integer,float,string data types in it"
      ],
      "metadata": {
        "id": "BD2wk-JkaVtN"
      }
    },
    {
      "cell_type": "code",
      "source": [
        "hetro_set={1,2,3,'Sam',1.5,1}\n",
        "print(hetro_set) #o/p : {1, 2, 3, 1.5, 'Sam'}\n",
        "print (type(hetro_set)) #o/p :  <class 'set'>"
      ],
      "metadata": {
        "colab": {
          "base_uri": "https://localhost:8080/"
        },
        "id": "it3nCEecabJm",
        "outputId": "03154e04-149a-474b-a852-532267707fdc"
      },
      "execution_count": null,
      "outputs": [
        {
          "output_type": "stream",
          "name": "stdout",
          "text": [
            "{1, 2, 3, 1.5, 'Sam'}\n",
            "<class 'set'>\n"
          ]
        }
      ]
    },
    {
      "cell_type": "markdown",
      "source": [
        ">(iii) Homogeneous tuple here I have created tuple with all string data types.\n"
      ],
      "metadata": {
        "id": "7VvB7sssbGGF"
      }
    },
    {
      "cell_type": "code",
      "source": [
        "Homo_tup=('Apple','Banana','Grapes','Mango')\n",
        "print(Homo_tup) #o/p : ('Apple', 'Banana', 'Grapes', 'Mango')"
      ],
      "metadata": {
        "colab": {
          "base_uri": "https://localhost:8080/"
        },
        "id": "a7LJ-M26aioo",
        "outputId": "4022935c-84fc-4356-d501-5e58453bd4aa"
      },
      "execution_count": null,
      "outputs": [
        {
          "output_type": "stream",
          "name": "stdout",
          "text": [
            "('Apple', 'na', 'Grapes', 'Mango')\n"
          ]
        }
      ]
    },
    {
      "cell_type": "markdown",
      "source": [
        "Q.8. Explain the mutable and immutable data types with proper explanation & examples.\n",
        "\n",
        "Answer >\n",
        "\n",
        ">here we added new element 'Apple' in list and print whole list after adding element at index 3 in it :\n"
      ],
      "metadata": {
        "id": "Cf-hnwRdbc4q"
      }
    },
    {
      "cell_type": "code",
      "source": [
        "ls=[1,2,3,4]\n",
        "ls[3]='Apple'\n",
        "print (ls) #o/p : [1, 2, 3, 'Apple']"
      ],
      "metadata": {
        "colab": {
          "base_uri": "https://localhost:8080/"
        },
        "id": "wrTbCF-vbrtp",
        "outputId": "9fc53431-6582-44cb-bcda-2b65b3e1582d"
      },
      "execution_count": null,
      "outputs": [
        {
          "output_type": "stream",
          "name": "stdout",
          "text": [
            "[1, 2, 3, 'Apple']\n"
          ]
        }
      ]
    },
    {
      "cell_type": "markdown",
      "source": [
        "> here we added new key value 'Address' and it value in Dict in it :"
      ],
      "metadata": {
        "id": "podGVnMdb4no"
      }
    },
    {
      "cell_type": "code",
      "source": [
        "Dict={'Name':'Tom','Age':30,}\n",
        "\n",
        "print(Dict) # o/p : {'Name': 'Tom', 'Age': 30}\n"
      ],
      "metadata": {
        "colab": {
          "base_uri": "https://localhost:8080/"
        },
        "id": "Z2sHIjRdb8Qd",
        "outputId": "786c038f-7095-4208-8e10-157fcc7de73a"
      },
      "execution_count": null,
      "outputs": [
        {
          "output_type": "stream",
          "name": "stdout",
          "text": [
            "{'Name': 'Tom', 'Age': 30}\n"
          ]
        }
      ]
    },
    {
      "cell_type": "code",
      "source": [
        "Dict['Address']='Cartoon Network' # adding this key value in Dict\n",
        "\n",
        "print (Dict)"
      ],
      "metadata": {
        "colab": {
          "base_uri": "https://localhost:8080/"
        },
        "id": "xsUFyJvQcGNy",
        "outputId": "121447b3-581a-4991-ec83-7c0a0c2e9ac5"
      },
      "execution_count": null,
      "outputs": [
        {
          "output_type": "stream",
          "name": "stdout",
          "text": [
            "{'Name': 'Tom', 'Age': 30, 'Address': 'Cartoon Network'}\n"
          ]
        }
      ]
    },
    {
      "cell_type": "markdown",
      "source": [
        ">here giving example of immutable strings and Tuple after assigning new value to 0 index in strings and tuple we get error."
      ],
      "metadata": {
        "id": "EB210luebNxq"
      }
    },
    {
      "cell_type": "code",
      "source": [
        "x='Ineuron'\n",
        "\n",
        "x[0]"
      ],
      "metadata": {
        "colab": {
          "base_uri": "https://localhost:8080/",
          "height": 36
        },
        "id": "Sgns00Grc-jv",
        "outputId": "aa1dbf63-cb6a-441f-b12b-cb2739579d0f"
      },
      "execution_count": null,
      "outputs": [
        {
          "output_type": "execute_result",
          "data": {
            "text/plain": [
              "'I'"
            ],
            "application/vnd.google.colaboratory.intrinsic+json": {
              "type": "string"
            }
          },
          "metadata": {},
          "execution_count": 16
        }
      ]
    },
    {
      "cell_type": "code",
      "source": [
        "x[0]=\"d\" #o/p : 'str' object does not support item assignment"
      ],
      "metadata": {
        "colab": {
          "base_uri": "https://localhost:8080/",
          "height": 165
        },
        "id": "MBqS0_GAdDJF",
        "outputId": "c31c6097-fb61-43a5-8df5-c310ad0d6468"
      },
      "execution_count": null,
      "outputs": [
        {
          "output_type": "error",
          "ename": "TypeError",
          "evalue": "ignored",
          "traceback": [
            "\u001b[0;31m---------------------------------------------------------------------------\u001b[0m",
            "\u001b[0;31mTypeError\u001b[0m                                 Traceback (most recent call last)",
            "\u001b[0;32m<ipython-input-17-3f8f2f92aaca>\u001b[0m in \u001b[0;36m<cell line: 1>\u001b[0;34m()\u001b[0m\n\u001b[0;32m----> 1\u001b[0;31m \u001b[0mx\u001b[0m\u001b[0;34m[\u001b[0m\u001b[0;36m0\u001b[0m\u001b[0;34m]\u001b[0m\u001b[0;34m=\u001b[0m\u001b[0;34m\"d\"\u001b[0m\u001b[0;34m\u001b[0m\u001b[0;34m\u001b[0m\u001b[0m\n\u001b[0m",
            "\u001b[0;31mTypeError\u001b[0m: 'str' object does not support item assignment"
          ]
        }
      ]
    },
    {
      "cell_type": "code",
      "source": [
        "tpl=(1,2,3,54,64)\n",
        "tpl[0]=34 #o/p : 'tuple' object does not support item assignment"
      ],
      "metadata": {
        "colab": {
          "base_uri": "https://localhost:8080/",
          "height": 182
        },
        "id": "NF282JlfdICW",
        "outputId": "a890c1eb-3b32-4dee-b7c4-3a2866995cef"
      },
      "execution_count": null,
      "outputs": [
        {
          "output_type": "error",
          "ename": "TypeError",
          "evalue": "ignored",
          "traceback": [
            "\u001b[0;31m---------------------------------------------------------------------------\u001b[0m",
            "\u001b[0;31mTypeError\u001b[0m                                 Traceback (most recent call last)",
            "\u001b[0;32m<ipython-input-18-845aae408f30>\u001b[0m in \u001b[0;36m<cell line: 2>\u001b[0;34m()\u001b[0m\n\u001b[1;32m      1\u001b[0m \u001b[0mtpl\u001b[0m\u001b[0;34m=\u001b[0m\u001b[0;34m(\u001b[0m\u001b[0;36m1\u001b[0m\u001b[0;34m,\u001b[0m\u001b[0;36m2\u001b[0m\u001b[0;34m,\u001b[0m\u001b[0;36m3\u001b[0m\u001b[0;34m,\u001b[0m\u001b[0;36m54\u001b[0m\u001b[0;34m,\u001b[0m\u001b[0;36m64\u001b[0m\u001b[0;34m)\u001b[0m\u001b[0;34m\u001b[0m\u001b[0;34m\u001b[0m\u001b[0m\n\u001b[0;32m----> 2\u001b[0;31m \u001b[0mtpl\u001b[0m\u001b[0;34m[\u001b[0m\u001b[0;36m0\u001b[0m\u001b[0;34m]\u001b[0m\u001b[0;34m=\u001b[0m\u001b[0;36m34\u001b[0m\u001b[0;34m\u001b[0m\u001b[0;34m\u001b[0m\u001b[0m\n\u001b[0m",
            "\u001b[0;31mTypeError\u001b[0m: 'tuple' object does not support item assignment"
          ]
        }
      ]
    },
    {
      "cell_type": "markdown",
      "source": [
        "Q.9. Write a code to create the given structure using only for loop.\n",
        "\n",
        "Answer >\n",
        "\n"
      ],
      "metadata": {
        "id": "PwvA12alddfu"
      }
    },
    {
      "cell_type": "code",
      "source": [
        "row=10\n",
        "k=row-1\n",
        "#this loop for outer row\n",
        "for i in range(0,row,2):\n",
        "    for j in range(0,k):\n",
        "        print(end=\" \")\n",
        "    k=k-1\n",
        "    for j in range(0,i+1):\n",
        "        print('*',end='')\n",
        "    print('\\r')"
      ],
      "metadata": {
        "colab": {
          "base_uri": "https://localhost:8080/"
        },
        "id": "Kv-RuIUodWfW",
        "outputId": "ab6e1d36-d776-4883-8f5b-faa8b00e5634"
      },
      "execution_count": null,
      "outputs": [
        {
          "output_type": "stream",
          "name": "stdout",
          "text": [
            "         *\r\n",
            "        ***\r\n",
            "       *****\r\n",
            "      *******\r\n",
            "     *********\r\n"
          ]
        }
      ]
    },
    {
      "cell_type": "markdown",
      "source": [
        " Q.10. Write a code to create the given structure using while loop.\n",
        "\n",
        "Answer >\n",
        "#Reverse_Pattern using while loop.\n",
        "\n",
        "a=9\n",
        "row =0\n",
        "while row<a:\n",
        "  space=0\n",
        "  while space<row:\n",
        "    print(\" \", end=\"\")\n",
        "    space+=1\n",
        "  star=0\n",
        "  while star<a-row:\n",
        "    print(\"|\",  end=\"\")\n",
        "    star+=1\n",
        "  row+=1\n",
        "  a-=1\n",
        "  print()\n",
        "\n",
        "\n"
      ],
      "metadata": {
        "id": "a0vBiCIyeStX"
      }
    },
    {
      "cell_type": "code",
      "source": [
        "#Reverse_Pattern using while loop.\n",
        "\n",
        "a=9\n",
        "row =0\n",
        "while row<a:\n",
        "  space=0\n",
        "  while space<row:\n",
        "    print(\" \", end=\"\")\n",
        "    space+=1\n",
        "  star=0\n",
        "  while star<a-row:\n",
        "    print(\"|\",  end=\"\")\n",
        "    star+=1\n",
        "  row+=1\n",
        "  a-=1\n",
        "  print()\n"
      ],
      "metadata": {
        "colab": {
          "base_uri": "https://localhost:8080/"
        },
        "id": "URntsotgeMVh",
        "outputId": "858516e4-464c-4592-f571-ddf517243bf9"
      },
      "execution_count": 58,
      "outputs": [
        {
          "output_type": "stream",
          "name": "stdout",
          "text": [
            "|||||||||\n",
            " |||||||\n",
            "  |||||\n",
            "   |||\n",
            "    |\n"
          ]
        }
      ]
    }
  ]
}