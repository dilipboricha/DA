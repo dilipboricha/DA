{
  "nbformat": 4,
  "nbformat_minor": 0,
  "metadata": {
    "colab": {
      "provenance": [],
      "authorship_tag": "ABX9TyMuJd63LHn7aQmtbmMAhg/Q"
    },
    "kernelspec": {
      "name": "python3",
      "display_name": "Python 3"
    },
    "language_info": {
      "name": "python"
    }
  },
  "cells": [
    {
      "cell_type": "markdown",
      "source": [
        "# 1. In Python, what is the difference between a built-in function and a user-defined function? Provide an example of each.\n",
        "\n",
        "Answer >\n",
        "\n",
        ">Built-in Function:\n",
        ">>Built-in functions are functions that are pre-defined in the Python language and are readily available for use without the need for any additional setup or importing external libraries. These functions are built into the Python interpreter and cover a wide range of tasks, from simple operations to more complex functionalities."
      ],
      "metadata": {
        "id": "bhujwxCBzSS9"
      }
    },
    {
      "cell_type": "code",
      "execution_count": 1,
      "metadata": {
        "colab": {
          "base_uri": "https://localhost:8080/"
        },
        "id": "JdK-X8nPy-Ow",
        "outputId": "81b50c10-5b2f-4d57-be9e-61f05eb85ae9"
      },
      "outputs": [
        {
          "output_type": "execute_result",
          "data": {
            "text/plain": [
              "5"
            ]
          },
          "metadata": {},
          "execution_count": 1
        }
      ],
      "source": [
        "# Built-in Function : len()\n",
        "\n",
        "lst = [1, 2, 3, 4, 5]\n",
        "len(lst) # length of list\n",
        "\n"
      ]
    },
    {
      "cell_type": "markdown",
      "source": [
        ">User-defined Function :\n",
        ">>User-defined functions are functions created by the programmer to perform specific tasks or operations that may not be available as built-in functions. These functions are defined by the user and can be customized based on their requirements."
      ],
      "metadata": {
        "id": "tbtrsxTn0drc"
      }
    },
    {
      "cell_type": "code",
      "source": [
        "# User defined Function :\n",
        "\n",
        "def square(num):\n",
        "    return num ** 2\n",
        "\n",
        "# Example using the user defined function of square()\n",
        "\n",
        "output = square(5)\n",
        "print(output)  # o/p : 25"
      ],
      "metadata": {
        "colab": {
          "base_uri": "https://localhost:8080/"
        },
        "id": "bA3NzuoO0bM6",
        "outputId": "efc51a54-9077-4731-bccb-005adf8e83e3"
      },
      "execution_count": 2,
      "outputs": [
        {
          "output_type": "stream",
          "name": "stdout",
          "text": [
            "25\n"
          ]
        }
      ]
    },
    {
      "cell_type": "markdown",
      "source": [
        "# 2. How can you pass arguments to a function in Python? Explain the difference between positional arguments and keyword arguments.\n",
        "\n",
        "Answer >\n",
        "\n",
        ">Positional Arguments :\n",
        ">>Positional arguments are the most common way of passing arguments to a function. When calling a function with positional arguments, the values are passed in the same order as the function's parameters are defined."
      ],
      "metadata": {
        "id": "z85p9YVb1Ls5"
      }
    },
    {
      "cell_type": "code",
      "source": [
        "# Positional Arguments :\n",
        "def greet(name, age):\n",
        "    print(f\"Hello, {name}. You are {age} years old.\")\n",
        "\n",
        "# Calling the function with positional arguments\n",
        "greet(\"Tom\", 25) # Output: Hello, Tom. You are 25 years old."
      ],
      "metadata": {
        "id": "leyckWvC1BOR"
      },
      "execution_count": null,
      "outputs": []
    },
    {
      "cell_type": "markdown",
      "source": [
        ">Keyword Arguments :\n",
        ">>Keyword arguments are passed to a function using the parameter names explicitly, along with the corresponding values. This allows you to pass arguments to a function in any order, as long as you specify the parameter names."
      ],
      "metadata": {
        "id": "2G39tZjV2gN3"
      }
    },
    {
      "cell_type": "code",
      "source": [
        "# Keyword Arguments :\n",
        "def greet(name, age):\n",
        "    print(f\"Hello, {name}. You are {age} years old.\")\n",
        "\n",
        "# Calling the function with keyword arguments\n",
        "greet(age=20, name=\"jerry\") # o/p : Hello, jerry. You are 20 years old."
      ],
      "metadata": {
        "colab": {
          "base_uri": "https://localhost:8080/"
        },
        "id": "TQybaxA82mam",
        "outputId": "07d3996f-90b0-42c0-f983-97f6bfb73f18"
      },
      "execution_count": 3,
      "outputs": [
        {
          "output_type": "stream",
          "name": "stdout",
          "text": [
            "Hello, jerry. You are 20 years old.\n"
          ]
        }
      ]
    },
    {
      "cell_type": "markdown",
      "source": [
        "# 3. What is the purpose of the return statement in a function? Can a function have multiple return statements? Explain with an example.\n",
        "\n",
        "Answer >\n",
        "\n",
        ">The return statement in a function is used to specify the value that the function should produce as its result.\n",
        "\n",
        ">When a function encounters a return statement, it immediately stops executing and returns the specified value back to the caller. The purpose of the return statement is to allow functions to produce outputs or results that can be used in other parts of the program."
      ],
      "metadata": {
        "id": "4N56LREL3sK7"
      }
    },
    {
      "cell_type": "code",
      "source": [
        "# Example of the return statement in a function :\n",
        "def add(a, b):\n",
        "    result = a + b\n",
        "    return result\n",
        "\n",
        "sum = add(3, 5)\n",
        "print(sum)  # Output: 8\n"
      ],
      "metadata": {
        "colab": {
          "base_uri": "https://localhost:8080/"
        },
        "id": "QczP3pC63lDU",
        "outputId": "ca007132-2802-4d27-c63b-61b2d971b35c"
      },
      "execution_count": 4,
      "outputs": [
        {
          "output_type": "stream",
          "name": "stdout",
          "text": [
            "8\n"
          ]
        }
      ]
    },
    {
      "cell_type": "markdown",
      "source": [
        ">Yes, a function can have multiple return statements. However, only one return statement is executed during the function call, and that is the one encountered first. Once the return statement is executed, the function terminates, and any subsequent code in the function will not be executed."
      ],
      "metadata": {
        "id": "qB0pLSm25BQL"
      }
    },
    {
      "cell_type": "code",
      "source": [
        "#  example of function having multiple return statements :\n",
        "\n",
        "def division(a, b):\n",
        "    if b == 0 :\n",
        "        return \"Cannot divide by zero!\"\n",
        "    else:\n",
        "        result = a / b\n",
        "        return result\n",
        "\n",
        "# Calling the function with different arguments\n",
        "\n",
        "print(division(10, 2))  # o/p : 5.0\n",
        "print(division(8, 0))   # o/p : Cannot divide by zero!\n"
      ],
      "metadata": {
        "colab": {
          "base_uri": "https://localhost:8080/"
        },
        "id": "rGGaRKgN43fr",
        "outputId": "be7715aa-fee2-43a7-d740-877afdf31826"
      },
      "execution_count": 5,
      "outputs": [
        {
          "output_type": "stream",
          "name": "stdout",
          "text": [
            "5.0\n",
            "Cannot divide by zero!\n"
          ]
        }
      ]
    },
    {
      "cell_type": "markdown",
      "source": [
        "# 4. What are lambda functions in Python? How are they different from regular functions? Provide an example where a lambda function can be useful.\n",
        "\n",
        "Answer >\n",
        "\n",
        ">Lambda function are small, one-line functions in Python that can be defined without a name.\n",
        "\n",
        ">They are created using the lambda keyword and are typically used for short, simple operations where a full function definition might be unnecessary.\n",
        "\n",
        "#Lambda functions are different from regular functions\n",
        "\n",
        "*   Syntax: Lambda functions have a more compact syntax, whereas regular functions use the def keyword and have a block of code.\n",
        "\n",
        "*  Name: Lambda functions are anonymous, meaning they don't have a name. They are typically used in situations where you need a short function for a one-time operation.\n",
        "\n",
        "*   Scope: Lambda functions are limited in their functionality as they can only contain a single expression. In contrast, regular functions can contain multiple statements and have a more flexible scope.\n"
      ],
      "metadata": {
        "id": "5bRRYTmN6Zvk"
      }
    },
    {
      "cell_type": "code",
      "source": [
        "# example of lambda function.\n",
        "\n",
        "area_lambda = lambda length, width: length * width\n",
        "\n",
        "length = 10\n",
        "width = 5\n",
        "\n",
        "print (area_lambda(length,width))"
      ],
      "metadata": {
        "colab": {
          "base_uri": "https://localhost:8080/"
        },
        "id": "WyVljMUV8bld",
        "outputId": "5da3f498-c349-4dde-e3ef-c00743f85d67"
      },
      "execution_count": 12,
      "outputs": [
        {
          "output_type": "stream",
          "name": "stdout",
          "text": [
            "50\n"
          ]
        }
      ]
    },
    {
      "cell_type": "markdown",
      "source": [
        "#5. How does the concept of \"scope\" apply to functions in Python? Explain the difference between local scope and global scope.\n",
        "\n",
        "Answer >\n",
        "\n",
        "> Local Scope :\n",
        "\n",
        ">Local scope, also known as function scope, applies to variables that are defined inside a function.\n",
        "\n",
        ">Variables with local scope are only accessible within the function in which they are defined.\n",
        "\n",
        ">They are created when the function is called and destroyed when the function completes its execution.\n",
        "\n",
        ">Local variables cannot be accessed outside the function.\n"
      ],
      "metadata": {
        "id": "m6C9MGSr-017"
      }
    },
    {
      "cell_type": "code",
      "source": [
        "def fun():\n",
        "    a = 10  # a is a local variable\n",
        "    print(a)\n",
        "\n",
        "fun()          # o/p : 10\n",
        "print(a)       # o/p : NameError: name 'a' is not defined\n"
      ],
      "metadata": {
        "colab": {
          "base_uri": "https://localhost:8080/",
          "height": 217
        },
        "id": "pxkNdTaY9EpR",
        "outputId": "d387cc97-4452-4d7b-eae3-c9e6134fd76b"
      },
      "execution_count": 15,
      "outputs": [
        {
          "output_type": "stream",
          "name": "stdout",
          "text": [
            "10\n"
          ]
        },
        {
          "output_type": "error",
          "ename": "NameError",
          "evalue": "ignored",
          "traceback": [
            "\u001b[0;31m---------------------------------------------------------------------------\u001b[0m",
            "\u001b[0;31mNameError\u001b[0m                                 Traceback (most recent call last)",
            "\u001b[0;32m<ipython-input-15-e5490bbf07b5>\u001b[0m in \u001b[0;36m<cell line: 6>\u001b[0;34m()\u001b[0m\n\u001b[1;32m      4\u001b[0m \u001b[0;34m\u001b[0m\u001b[0m\n\u001b[1;32m      5\u001b[0m \u001b[0mfun\u001b[0m\u001b[0;34m(\u001b[0m\u001b[0;34m)\u001b[0m          \u001b[0;31m# o/p : 10\u001b[0m\u001b[0;34m\u001b[0m\u001b[0;34m\u001b[0m\u001b[0m\n\u001b[0;32m----> 6\u001b[0;31m \u001b[0mprint\u001b[0m\u001b[0;34m(\u001b[0m\u001b[0ma\u001b[0m\u001b[0;34m)\u001b[0m       \u001b[0;31m# o/p : NameError: name 'a' is not defined\u001b[0m\u001b[0;34m\u001b[0m\u001b[0;34m\u001b[0m\u001b[0m\n\u001b[0m",
            "\u001b[0;31mNameError\u001b[0m: name 'a' is not defined"
          ]
        }
      ]
    },
    {
      "cell_type": "markdown",
      "source": [
        ">Global Scope:\n",
        "\n",
        ">Global scope refers to variables that are defined at the top level of a Python script or module.\n",
        "\n",
        ">Variables with global scope are accessible throughout the entire script or module.\n",
        "\n",
        ">They are created when defined and remain in memory until the script or module is terminated."
      ],
      "metadata": {
        "id": "4KrOhM88AKpI"
      }
    },
    {
      "cell_type": "code",
      "source": [
        "b = 15  # b is a global variable\n",
        "\n",
        "def mfun():\n",
        "    print(b)\n",
        "\n",
        "mfun()         # o/p : 15\n",
        "print(b)       # o/p : 15\n"
      ],
      "metadata": {
        "colab": {
          "base_uri": "https://localhost:8080/"
        },
        "id": "iD6bVLam_36X",
        "outputId": "8e9bb27f-1dda-4158-c4cd-9a0a8248b431"
      },
      "execution_count": 16,
      "outputs": [
        {
          "output_type": "stream",
          "name": "stdout",
          "text": [
            "15\n",
            "15\n"
          ]
        }
      ]
    },
    {
      "cell_type": "markdown",
      "source": [
        "#6. How can you use the \"return\" statement in a Python function to return multiple values?\n",
        "\n",
        "Answer >\n",
        "\n",
        ">def get_values():\n",
        "    a = 10\n",
        "    b = 20\n",
        "    c = 30\n",
        "    return a, b, c\n",
        "\n",
        "result = get_values()\n",
        "print(result)  # Output: (10, 20, 30)\n"
      ],
      "metadata": {
        "id": "OvKMjazKA5TH"
      }
    },
    {
      "cell_type": "code",
      "source": [
        "def func():\n",
        "  return 11, 12, 13\n",
        "\n",
        "a, b, c = func()\n",
        "print (\"a =\", a , \"b =\", b ,\"c =\", c) # o/p : a = 11 b = 12 c = 13\n",
        "\n",
        "# separate return value\n",
        "print (a)  #o/p : 11\n",
        "print (b)  #o/p : 12\n",
        "print (c)  #o/p : 13\n"
      ],
      "metadata": {
        "colab": {
          "base_uri": "https://localhost:8080/"
        },
        "id": "5S13Y_pMAmfi",
        "outputId": "dbb8ad21-f3cd-48c8-b2a7-6391de2dd3ec"
      },
      "execution_count": 22,
      "outputs": [
        {
          "output_type": "stream",
          "name": "stdout",
          "text": [
            "a = 11 b = 12 c = 13\n",
            "11\n",
            "12\n",
            "13\n"
          ]
        }
      ]
    },
    {
      "cell_type": "markdown",
      "source": [
        "#7. What is the difference between the \"pass by value\" and \"pass by reference\" concepts when it comes to function arguments in Python?\n",
        "\n",
        "Answer >\n",
        "\n",
        ">Pass by Value :\n",
        "\n",
        ">In a \"pass by value\" approach, the function receives a copy of the actual value of the argument that is passed to it.\n",
        "\n",
        ">Any changes made to the parameter within the function do not affect the original value outside the function."
      ],
      "metadata": {
        "id": "j7oS4JilCmst"
      }
    },
    {
      "cell_type": "code",
      "source": [
        "def increment_value(x):\n",
        "    x = x + 1\n",
        "    return x\n",
        "\n",
        "a = 5\n",
        "\n",
        "after_function_run = increment_value(a)\n",
        "\n",
        "print(a)  # Output: 5 (unchanged)\n",
        "\n",
        "print(after_function_run)  # Output: 6\n",
        "\n",
        "print(a) # Output: 5 (do not affect the original value outside the function)\n"
      ],
      "metadata": {
        "colab": {
          "base_uri": "https://localhost:8080/"
        },
        "id": "LdGDz-OoBjvC",
        "outputId": "3e6236e0-29e5-48b6-dcc8-6748019e094d"
      },
      "execution_count": 26,
      "outputs": [
        {
          "output_type": "stream",
          "name": "stdout",
          "text": [
            "5\n",
            "6\n",
            "5\n"
          ]
        }
      ]
    },
    {
      "cell_type": "markdown",
      "source": [
        ">Pass by Reference (Reference Passing):\n",
        "\n",
        ">In a \"pass by reference\" approach, the function receives a reference (or memory address) to the actual object (such as a variable) that is passed to it.\n",
        "\n",
        ">Any changes made to the parameter within the function affect the original object outside the function."
      ],
      "metadata": {
        "id": "IxSKiwPUEuRt"
      }
    },
    {
      "cell_type": "code",
      "source": [
        "def modify_lst(lst):\n",
        "    lst.append(42)\n",
        "\n",
        "mylst = [1, 2, 3]\n",
        "modify_lst(mylst)\n",
        "\n",
        "print(mylst)  # Output: [1, 2, 3, 42] (modified)\n",
        "# modify_lst function change the original object outside the function.\n"
      ],
      "metadata": {
        "colab": {
          "base_uri": "https://localhost:8080/"
        },
        "id": "E73cAo0CEG3h",
        "outputId": "9ee1a7f0-a497-4f3c-892c-e97bc4b10577"
      },
      "execution_count": 28,
      "outputs": [
        {
          "output_type": "stream",
          "name": "stdout",
          "text": [
            "[1, 2, 3, 42]\n"
          ]
        }
      ]
    },
    {
      "cell_type": "markdown",
      "source": [
        "#8. Create a function that can intake integer or decimal value and do following operations:\n",
        "\n",
        "a. Logarithmic function (log x)\n",
        "\n",
        "b. Exponential function (exp(x))\n",
        "\n",
        "c. Power function with base 2 (2x)\n",
        "\n",
        "d. Square root\n",
        "\n",
        "Answer >\n",
        "\n"
      ],
      "metadata": {
        "id": "r72SKjGOFjak"
      }
    },
    {
      "cell_type": "code",
      "source": [
        "import math # for mathematical function execute\n",
        "\n",
        "def math_fun(x):\n",
        "\n",
        "    log = math.log(x)  # Logarithmic function (log x)\n",
        "\n",
        "    exp = math.exp(x)   # Exponential function (exp(x))\n",
        "\n",
        "    power = math.pow(2, x)   # Power function with base 2 (2^x)\n",
        "\n",
        "    square_root = math.sqrt(x)      # Square root\n",
        "\n",
        "    # Return the results as a dictionary\n",
        "    results = {\n",
        "        'log': log,\n",
        "        'exp': exp,\n",
        "        'power': power,\n",
        "        'square_root': square_root\n",
        "    }\n",
        "    return results\n",
        "\n",
        "# Test with integer and decimal values\n",
        "test_1 = math_fun(10)\n",
        "print(test_1)\n",
        "#o/p : {'log': 2.302585092994046, 'exp': 22026.465794806718, 'power': 1024.0, 'square_root': 3.1622776601683795}\n",
        "\n",
        "test_2 = math_fun(5.5)\n",
        "print(test_2)\n",
        "# o/p : {'log': 1.7047480922384253, 'exp': 244.69193226422038, 'power': 45.254833995939045, 'square_root': 2.345207879911715}\n"
      ],
      "metadata": {
        "colab": {
          "base_uri": "https://localhost:8080/"
        },
        "id": "3wV1HLzIFcTu",
        "outputId": "6effcf42-3e5a-4954-89a0-61844b9e060b"
      },
      "execution_count": 50,
      "outputs": [
        {
          "output_type": "stream",
          "name": "stdout",
          "text": [
            "{'log': 2.302585092994046, 'exp': 22026.465794806718, 'power': 1024.0, 'square_root': 3.1622776601683795}\n",
            "{'log': 1.7047480922384253, 'exp': 244.69193226422038, 'power': 45.254833995939045, 'square_root': 2.345207879911715}\n"
          ]
        }
      ]
    },
    {
      "cell_type": "markdown",
      "source": [
        "#9. Create a function that takes a full name as an argument and returns first name and last name.\n",
        "\n",
        "Answer >\n",
        "\n"
      ],
      "metadata": {
        "id": "7noOsrTnLKyT"
      }
    },
    {
      "cell_type": "code",
      "source": [
        "def split_name(full_name):\n",
        "    first_name, last_name = full_name.split()\n",
        "    return first_name, last_name\n",
        "\n",
        "test = split_name(\"Thomas Edison\") # giving Full Name As INPUT\n",
        "print(test) # o/p : ('Thomas', 'Edison')"
      ],
      "metadata": {
        "colab": {
          "base_uri": "https://localhost:8080/"
        },
        "id": "30lMpL5VHI8Q",
        "outputId": "984789a4-26c6-4d47-8fa9-e161e2e1b41d"
      },
      "execution_count": 53,
      "outputs": [
        {
          "output_type": "stream",
          "name": "stdout",
          "text": [
            "('Thomas', 'Edison')\n"
          ]
        }
      ]
    },
    {
      "cell_type": "code",
      "source": [],
      "metadata": {
        "id": "sXd_46KKIez-"
      },
      "execution_count": null,
      "outputs": []
    }
  ]
}